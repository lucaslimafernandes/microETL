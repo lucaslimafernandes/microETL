{
 "cells": [
  {
   "cell_type": "markdown",
   "metadata": {},
   "source": [
    "## Sistema microETL"
   ]
  },
  {
   "cell_type": "markdown",
   "metadata": {},
   "source": [
    " "
   ]
  },
  {
   "cell_type": "code",
   "execution_count": 4,
   "metadata": {},
   "outputs": [],
   "source": [
    "import pandas as pd\n",
    "import os\n",
    "import sys\n",
    "import xlrd"
   ]
  },
  {
   "cell_type": "markdown",
   "metadata": {},
   "source": [
    "<p>Abrir arquivo excel com <b><i>pandas</i></b></p>\n",
    "    <p>- Abrir arquivo<p/>\n",
    "    <p>- Listar colunas<p/>\n",
    "    <p>- Trabalhar com listas das colunas<p/>\n",
    "    <p>- Trocar caracteres indesejados dos nomes das colunas</p>"
   ]
  },
  {
   "cell_type": "code",
   "execution_count": 5,
   "metadata": {},
   "outputs": [],
   "source": [
    "df = pd.read_excel('base_in/0502.xlsx')\n"
   ]
  },
  {
   "cell_type": "markdown",
   "metadata": {},
   "source": [
    "<p>Listas de caracteres para tratamento de cabeçalho</p>"
   ]
  },
  {
   "cell_type": "code",
   "execution_count": 16,
   "metadata": {},
   "outputs": [
    {
     "name": "stdout",
     "output_type": "stream",
     "text": [
      "['a', 'b', 'c', 'd', 'e', 'f', 'g', 'h', 'i', 'j', 'k', 'l', 'm', 'n', 'o', 'p', 'q', 'r', 's', 't', 'u', 'v', 'x', 'w', 'y', 'z']\n"
     ]
    }
   ],
   "source": [
    "alfabeto = ['a','b','c','d','e','f','g','h','i','j','k','l','m','n','o',\n",
    "            'p','q','r','s','t','u','v','x','w','y','z']\n",
    "acent = ['á','a','à','a','é','e','è','e','ú','u','ù','u',\n",
    "         'í','i','ì','i','ó','o','ò','o','ã','a','â','a',\n",
    "         'Á','A','À','A','É','E','È','E','Ú','U','Ù','U',\n",
    "         'Í','I','Ì','I','Ó','O','Ò','O','Ã','A','Â','A']\n",
    "caract = ['%', 'Percent', '+', '_', ' ', '_', '(', '', ')', '']\n",
    "print(alfabeto)"
   ]
  },
  {
   "cell_type": "markdown",
   "metadata": {},
   "source": [
    "<p>Laço for para troca de caracteres especiais</p>"
   ]
  },
  {
   "cell_type": "code",
   "execution_count": 31,
   "metadata": {},
   "outputs": [],
   "source": [
    "new_head = []\n",
    "\n",
    "\n",
    "for col in range(0, len(df.columns)):\n",
    "    new = []\n",
    "    for c in range(0, len(df.columns[col])):\n",
    "        var = df.columns[col][c]\n",
    "        if var.lower() in alfabeto:\n",
    "            #new.append(df.columns[0][c])\n",
    "            result = var\n",
    "        elif var.lower() in acent:\n",
    "            r = acent.index(var)\n",
    "            result = var.replace(acent[r], acent[r+1])\n",
    "            #print(f'ACENT:{var}, L:{acent[r]},R:{result}')\n",
    "        elif var.lower() in caract:\n",
    "            r = caract.index(var)\n",
    "            result = var.replace(caract[r], caract[r+1])\n",
    "        else:\n",
    "            result = 'ERR'+var\n",
    "        new.append(result)\n",
    "    \n",
    "    nnew = ''.join(new)\n",
    "    new_head.append(nnew)"
   ]
  },
  {
   "cell_type": "markdown",
   "metadata": {},
   "source": [
    "<p> Juntar novo head aos dados do df"
   ]
  },
  {
   "cell_type": "code",
   "execution_count": 25,
   "metadata": {},
   "outputs": [],
   "source": [
    "new_df = pd.DataFrame(df.values, columns=new_head)"
   ]
  },
  {
   "cell_type": "markdown",
   "metadata": {},
   "source": [
    "<p> Salvar em excel</p>"
   ]
  },
  {
   "cell_type": "code",
   "execution_count": 28,
   "metadata": {},
   "outputs": [],
   "source": [
    "new_df.to_excel('teste.xlsx')"
   ]
  }
 ],
 "metadata": {
  "kernelspec": {
   "display_name": "Python 3",
   "language": "python",
   "name": "python3"
  },
  "language_info": {
   "codemirror_mode": {
    "name": "ipython",
    "version": 3
   },
   "file_extension": ".py",
   "mimetype": "text/x-python",
   "name": "python",
   "nbconvert_exporter": "python",
   "pygments_lexer": "ipython3",
   "version": "3.8.2"
  }
 },
 "nbformat": 4,
 "nbformat_minor": 4
}
